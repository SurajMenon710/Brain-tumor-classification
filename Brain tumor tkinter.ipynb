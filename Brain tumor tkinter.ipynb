{
 "cells": [
  {
   "cell_type": "markdown",
   "id": "c3845aa6",
   "metadata": {},
   "source": [
    "# Brain Tumor MRI Classification Model Deployment on Tkinter"
   ]
  },
  {
   "cell_type": "markdown",
   "id": "2f8318fd",
   "metadata": {},
   "source": [
    "# Importing Libraries"
   ]
  },
  {
   "cell_type": "code",
   "execution_count": 1,
   "id": "bc8ff655",
   "metadata": {},
   "outputs": [],
   "source": [
    "import tkinter as tk\n",
    "from PIL import ImageTk, Image\n",
    "from tkinter import filedialog\n",
    "import numpy as np\n",
    "import tensorflow\n",
    "from tensorflow import keras\n",
    "from keras.models import load_model\n",
    "import cv2\n",
    "\n",
    "import warnings\n",
    "warnings.filterwarnings(\"ignore\")"
   ]
  },
  {
   "cell_type": "markdown",
   "id": "0ca497be",
   "metadata": {},
   "source": [
    "# Loading Image Function"
   ]
  },
  {
   "cell_type": "code",
   "execution_count": 2,
   "id": "31e4dc62",
   "metadata": {},
   "outputs": [],
   "source": [
    "def load_img():\n",
    "    global img, image_data\n",
    "    for img_display in frame.winfo_children():\n",
    "        img_display.destroy()\n",
    "\n",
    "    image_data = filedialog.askopenfilename(initialdir=\"/\", title=\"Choose an image\",\n",
    "                                       filetypes=((\"all files\", \"*.*\"), (\"png files\", \"*.png\")))\n",
    "    basewidth = 350 # Processing image for displaying\n",
    "    img = Image.open(image_data)\n",
    "    wpercent = (basewidth / float(img.size[0]))\n",
    "    hsize = int((float(img.size[1]) * float(wpercent)))\n",
    "    img = img.resize((basewidth, hsize), Image.ANTIALIAS)\n",
    "    img = ImageTk.PhotoImage(img)\n",
    "    file_name = image_data.split('/')\n",
    "    panel = tk.Label(frame, text= str(file_name[len(file_name)-1]).upper()).pack()\n",
    "    panel_image = tk.Label(frame, image=img).pack()"
   ]
  },
  {
   "cell_type": "markdown",
   "id": "b3aaea67",
   "metadata": {},
   "source": [
    "# Classification Function"
   ]
  },
  {
   "cell_type": "code",
   "execution_count": 12,
   "id": "dc7a5176",
   "metadata": {},
   "outputs": [],
   "source": [
    "def classify():\n",
    "    image=cv2.imread(image_data,cv2.IMREAD_GRAYSCALE)\n",
    "    new_array = cv2.resize(image,(200,200))\n",
    "    X=np.array(new_array).reshape(-1,200,200)\n",
    "    X=X/255.0\n",
    "    X=X.reshape(-1,200,200,1)\n",
    "    predict = model.predict(X)\n",
    "    label = np.argmax(predict,axis=1)\n",
    "    if label==0:\n",
    "        ans = \"Glioma Tumor\"\n",
    "    elif label==1:\n",
    "        ans= \"Meningioma Tumor\"\n",
    "    elif label==2:\n",
    "        ans= \"No Tumor\"\n",
    "    else:\n",
    "        ans = \"Pitutary Tumor\"\n",
    "\n",
    "    result = tk.Label(frame,text = ans,font=(\"Arial Black\",12)).pack()"
   ]
  },
  {
   "cell_type": "markdown",
   "id": "4b8a8e18",
   "metadata": {},
   "source": [
    "# Tkinter GUI"
   ]
  },
  {
   "cell_type": "code",
   "execution_count": 13,
   "id": "23d10283",
   "metadata": {},
   "outputs": [
    {
     "name": "stdout",
     "output_type": "stream",
     "text": [
      "WARNING:tensorflow:5 out of the last 5 calls to <function Model.make_predict_function.<locals>.predict_function at 0x0000029196258EE0> triggered tf.function retracing. Tracing is expensive and the excessive number of tracings could be due to (1) creating @tf.function repeatedly in a loop, (2) passing tensors with different shapes, (3) passing Python objects instead of tensors. For (1), please define your @tf.function outside of the loop. For (2), @tf.function has experimental_relax_shapes=True option that relaxes argument shapes that can avoid unnecessary retracing. For (3), please refer to https://www.tensorflow.org/guide/function#controlling_retracing and https://www.tensorflow.org/api_docs/python/tf/function for  more details.\n"
     ]
    }
   ],
   "source": [
    "root = tk.Tk()\n",
    "root.title('MRI Brain-Tumor Classifier')\n",
    "root.resizable(False, False)\n",
    "name = tk.Label(root,text =\"Brain Tumor Classification using MRI\",padx=25,pady=6,font =(\"\",12)).pack()\n",
    "canvas = tk.Canvas(root, height=500, width=500, bg='lightblue')\n",
    "canvas.pack()\n",
    "frame = tk.Frame(root, bg='white')\n",
    "frame.place(relwidth=0.8, relheight=0.8, relx=0.1, rely=0.1)\n",
    "chose_image = tk.Button(root, text='Choose Image',\n",
    "                        padx=35, pady=10,\n",
    "                        fg=\"white\", bg=\"black\", command=load_img)\n",
    "chose_image.pack(side=tk.LEFT)\n",
    "class_image = tk.Button(root, text='Classify Image',\n",
    "                        padx=35, pady=10,\n",
    "                        fg=\"white\", bg=\"black\", command=classify)\n",
    "class_image.pack(side=tk.RIGHT)\n",
    "model = keras.models.load_model(\"C:\\\\Users\\\\Suraj Menon\\\\Desktop\\\\ML Disease\\\\weights_improvement_model18-25-0.97.hdf5\")\n",
    "root.mainloop()"
   ]
  },
  {
   "cell_type": "code",
   "execution_count": null,
   "id": "8fe5762e",
   "metadata": {},
   "outputs": [],
   "source": []
  }
 ],
 "metadata": {
  "kernelspec": {
   "display_name": "Tensor",
   "language": "python",
   "name": "tensor"
  },
  "language_info": {
   "codemirror_mode": {
    "name": "ipython",
    "version": 3
   },
   "file_extension": ".py",
   "mimetype": "text/x-python",
   "name": "python",
   "nbconvert_exporter": "python",
   "pygments_lexer": "ipython3",
   "version": "3.9.12"
  }
 },
 "nbformat": 4,
 "nbformat_minor": 5
}
