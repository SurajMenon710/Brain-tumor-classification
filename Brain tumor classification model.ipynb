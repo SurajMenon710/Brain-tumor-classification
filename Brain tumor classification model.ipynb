{
 "cells": [
  {
   "cell_type": "markdown",
   "metadata": {},
   "source": [
    "#                                              Brain Tumor MRI Classification"
   ]
  },
  {
   "cell_type": "code",
   "execution_count": 16,
   "metadata": {
    "colab": {
     "base_uri": "https://localhost:8080/"
    },
    "id": "skWD2NzA6IZL",
    "outputId": "6d1927f8-2082-4794-c096-4bac729b4077"
   },
   "outputs": [
    {
     "name": "stdout",
     "output_type": "stream",
     "text": [
      "Warning: Your Kaggle API key is readable by other users on this system! To fix this, you can run 'chmod 600 /root/.kaggle/kaggle.json'\n",
      "brain-tumor-mri-dataset.zip: Skipping, found more recently modified local copy (use --force to force download)\n"
     ]
    }
   ],
   "source": [
    "!mkdir -p ~/.kaggle\n",
    "!cp kaggle.json ~/.kaggle/\n",
    "\n",
    "!kaggle datasets download -d masoudnickparvar/brain-tumor-mri-dataset\n",
    "\n",
    "import zipfile\n",
    "zip_ref= zipfile.ZipFile('/content/brain-tumor-mri-dataset.zip','r')\n",
    "zip_ref.extractall('/content')\n",
    "zip_ref.close()"
   ]
  },
  {
   "cell_type": "markdown",
   "metadata": {},
   "source": [
    "# Importing Libraries"
   ]
  },
  {
   "cell_type": "code",
   "execution_count": 1,
   "metadata": {
    "id": "mKWRu7PZ6ZZw"
   },
   "outputs": [],
   "source": [
    "import numpy as np\n",
    "import pandas as pd\n",
    "import tensorflow as tf                  # Used for building Deep Learning models\n",
    "import matplotlib.pyplot as plt          # Both matplotlib and seaborn are used for data visualization\n",
    "import seaborn as sns\n",
    "from sklearn.metrics import classification_report , confusion_matrix    \n",
    "# Used to know how well our classification model performs\n",
    "\n",
    "import os                       # Used for tasks like creating, deleting ,moving, renaming and accessing files and directories\n",
    "import cv2                      # Used to preprocess images before they are fed to model \n",
    "\n",
    "from tensorflow import keras\n",
    "from keras import Sequential                     # Sequential is used for building linear stack of layers \n",
    "from keras.utils.np_utils import to_categorical  # Used to one-hot encode target data for when using categorical crossentrophy loss function\n",
    "from keras.layers import Dense,Conv2D,MaxPooling2D,Flatten\n",
    "# Dense layer is a fully connected layer, where every neuron in the layer is connected to every neuron in the \n",
    "# preceding and subsequent layers\n",
    "\n",
    "# Conv2D layer is a convolutional layer that performs 2D convolution on the input data. \n",
    "# It applies a set of filters to the input data and produces a set of output feature maps. Often used for image recognition tasks.\n",
    "\n",
    "# MaxPooling is a pooling layer that applies a maximum pooling operation on the input data. It partitions the input data into \n",
    "# non-overlapping rectangles and takes the maximum value from each rectangle. This results in a reduction of the spatial dimensions of the input data.\n",
    "\n",
    "# Flatten layer is used to reshape the input data into a 1D array. \n",
    "# This is typically done before passing the data through a dense layer.\n",
    "\n",
    "from keras.layers import  Dropout\n",
    "#Dropout layer is used to reduce overfitting by turning the nodes off randomly\n",
    "\n",
    "from keras.callbacks import ModelCheckpoint\n",
    "# ModelCheckpoint is used to save weights of model during training at certain intervals or when it meets certain performance mark"
   ]
  },
  {
   "cell_type": "markdown",
   "metadata": {},
   "source": [
    "# Visualizing Training data"
   ]
  },
  {
   "cell_type": "code",
   "execution_count": 9,
   "metadata": {
    "id": "_lOiso7BAfur"
   },
   "outputs": [
    {
     "data": {
      "image/png": "[encoded data removed]",
      "text/plain": [
       "<Figure size 576x288 with 1 Axes>"
      ]
     },
     "metadata": {
      "needs_background": "light"
     },
     "output_type": "display_data"
    }
   ],
   "source": [
    "glioma = os.listdir(\"C:\\\\Users\\\\Suraj Menon\\\\\\Desktop\\\\archive\\\\Training\\\\glioma\")\n",
    "meningioma = os.listdir(\"C:\\\\Users\\\\Suraj Menon\\\\\\Desktop\\\\archive\\\\Training\\\\meningioma\")\n",
    "no_tumor = os.listdir(\"C:\\\\Users\\\\Suraj Menon\\\\\\Desktop\\\\archive\\\\Training\\\\notumor\")\n",
    "pituitary = os.listdir(\"C:\\\\Users\\\\Suraj Menon\\\\\\Desktop\\\\archive\\\\Training\\\\pituitary\")\n",
    "\n",
    "Labels = ['Glioma Tumor','Meningioma Tumor','No Tumor','Pituitary Tumor']\n",
    "values = [len(glioma),len(meningioma),len(no_tumor),len(pituitary)]\n",
    "\n",
    "plt.figure(figsize = (8,4))\n",
    "sns.barplot(x= Labels , y=values)\n",
    "plt.show()"
   ]
  },
  {
   "cell_type": "code",
   "execution_count": 8,
   "metadata": {},
   "outputs": [
    {
     "data": {
      "image/png": "[encoded data removed]",
      "text/plain": [
       "<Figure size 432x288 with 1 Axes>"
      ]
     },
     "metadata": {},
     "output_type": "display_data"
    }
   ],
   "source": [
    "plt.pie(values, labels = Labels,autopct = '%1.1f%%')\n",
    "plt.show()                                                    # Here we can see that the image dataset is almost balanced "
   ]
  },
  {
   "cell_type": "markdown",
   "metadata": {
    "id": "A_z74iJpAf3x"
   },
   "source": [
    "# Loading the data , preprocessing it and splitting it for training and validation"
   ]
  },
  {
   "cell_type": "code",
   "execution_count": 18,
   "metadata": {
    "id": "sri9sHUY6vB9"
   },
   "outputs": [],
   "source": [
    "DIR_Path = \"/content/Training/\"\n",
    "CLASSES = ['glioma','meningioma','notumor','pituitary']       # Classes of our data. Here we have four classes."
   ]
  },
  {
   "cell_type": "code",
   "execution_count": 19,
   "metadata": {
    "id": "g9kPGZuC7BgL"
   },
   "outputs": [],
   "source": [
    "data = []\n",
    "\n",
    "def loading_data():\n",
    "  for category in CLASSES:                                                  # This function is used to extract images and their\n",
    "    path = os.path.join(DIR_Path,category)                                  # labels from Training Directory and store them \n",
    "    class_num = CLASSES.index(category)                                     # data list as a list of images and their respective \n",
    "    for img in os.listdir(path):                                            # labels. Here the images are converted to grayscale\n",
    "      img_array = cv2.imread(os.path.join(path,img),cv2.IMREAD_GRAYSCALE)   # and their size is taken as (200,200)\n",
    "      new_array = cv2.resize(img_array,(200,200))\n",
    "      data.append([new_array,class_num])\n",
    "\n",
    "loading_data()                                                  "
   ]
  },
  {
   "cell_type": "code",
   "execution_count": 20,
   "metadata": {
    "colab": {
     "base_uri": "https://localhost:8080/"
    },
    "id": "Vw78Jt8N8cS6",
    "outputId": "587011d1-f233-47c8-a150-a2b5b17c75f8"
   },
   "outputs": [
    {
     "name": "stdout",
     "output_type": "stream",
     "text": [
      "(5712, 200, 200)\n"
     ]
    }
   ],
   "source": [
    "X = []\n",
    "y = []\n",
    "for image,label in data:                         # This function stores images in X list and their labels in y list\n",
    "  X.append(image)\n",
    "  y.append(label)\n",
    "\n",
    "X=np.array(X).reshape(-1,200,200)                # Here the first dimension is number of samples, second and third are for \n",
    "print(X.shape)                                   # height and width of images. Here we are making sure that the dataset has \n",
    "                                                 # correct shape for model to be able to process it."
   ]
  },
  {
   "cell_type": "code",
   "execution_count": 21,
   "metadata": {
    "colab": {
     "base_uri": "https://localhost:8080/"
    },
    "id": "yZ-Cc-I99CtA",
    "outputId": "caa58639-d485-4122-fc51-3af42c6620bf"
   },
   "outputs": [
    {
     "name": "stdout",
     "output_type": "stream",
     "text": [
      "(5712, 200, 200, 1)\n"
     ]
    }
   ],
   "source": [
    "X=X/255.0                                     # Here we are feature scaling the images pixel range from [0,255] to [0,1]\n",
    "X=X.reshape(-1,200,200,1)                     # Here the fourth dimension is the number of channels. 1 is for grey while \n",
    "print(X.shape)                                # 3 is for rgb channel. Here we are using 1 channel (i.e. grey)"
   ]
  },
  {
   "cell_type": "code",
   "execution_count": 22,
   "metadata": {
    "colab": {
     "base_uri": "https://localhost:8080/"
    },
    "id": "U9AroiRn-ofG",
    "outputId": "c29ecf8e-7227-471e-9712-7fc4f137afe9"
   },
   "outputs": [
    {
     "name": "stdout",
     "output_type": "stream",
     "text": [
      "(5712, 4)\n"
     ]
    }
   ],
   "source": [
    "y = to_categorical(y , num_classes=4)         # Here we have 4 classes that are represented as integers from 0 to 3.\n",
    "print(y.shape)                                # to_categorical is used to one-hot encode this classes and this function converts\n",
    "                                              # these integers to a binary matrix with a shape of (n_samples,n_classes)"
   ]
  },
  {
   "cell_type": "code",
   "execution_count": 24,
   "metadata": {
    "colab": {
     "base_uri": "https://localhost:8080/"
    },
    "id": "gQDkNEMG-8Sb",
    "outputId": "a8b82cf0-ffc5-4ab8-c8cd-b32e5b2937df"
   },
   "outputs": [
    {
     "name": "stdout",
     "output_type": "stream",
     "text": [
      "X train shape :  (4569, 200, 200, 1)\n",
      "X test shape :  (1143, 200, 200, 1)\n",
      "y train shape :  (4569, 4)\n",
      "y test shape :  (1143, 4)\n"
     ]
    }
   ],
   "source": [
    "from sklearn.model_selection import train_test_split\n",
    "X_train,X_val,y_train,y_val = train_test_split(X,y,test_size=0.2,shuffle=True,random_state=42)\n",
    "\n",
    "print(\"X train shape : \",X_train.shape)              # Here we split the training dataset and we use 80% for training\n",
    "print(\"X test shape : \",X_val.shape)                 # and rest 20% for validation\n",
    "print(\"y train shape : \",y_train.shape)\n",
    "print(\"y test shape : \",y_val.shape)"
   ]
  },
  {
   "cell_type": "markdown",
   "metadata": {
    "id": "pebk5NZSAIhI"
   },
   "source": [
    "# CNN Model "
   ]
  },
  {
   "cell_type": "code",
   "execution_count": 27,
   "metadata": {
    "id": "3ktEhGeSAd5P"
   },
   "outputs": [],
   "source": [
    "#model\n",
    "\n",
    "model= Sequential()\n",
    "\n",
    "model.add(Conv2D(32,kernel_size=(5,5),strides=1,padding=\"same\",activation=\"relu\",input_shape = (200,200,1)))\n",
    "model.add(MaxPooling2D(pool_size=(2,2),padding = \"valid\"))\n",
    "model.add(Dropout(0.3))\n",
    "\n",
    "model.add(Conv2D(64,kernel_size=(3,3),strides=1,padding=\"same\",activation=\"relu\"))\n",
    "model.add(MaxPooling2D(pool_size=(2,2),padding = \"valid\"))\n",
    "model.add(Dropout(0.3))\n",
    "\n",
    "model.add(Conv2D(64,kernel_size=(3,3),strides=1,padding=\"same\",activation=\"relu\"))\n",
    "model.add(MaxPooling2D(pool_size=(2,2),padding = \"valid\"))\n",
    "model.add(Dropout(0.3))\n",
    "\n",
    "model.add(Conv2D(128,kernel_size=(3,3),strides=1,padding=\"same\",activation=\"relu\"))\n",
    "model.add(MaxPooling2D(pool_size=(2,2),padding = \"valid\"))\n",
    "model.add(Dropout(0.3))\n",
    "\n",
    "model.add(Flatten())\n",
    "model.add(Dropout(0.5))\n",
    "model.add(Dense(512,activation='relu'))\n",
    "model.add(Dropout(0.5))\n",
    "model.add(Dense(4,activation = 'softmax'))"
   ]
  },
  {
   "cell_type": "code",
   "execution_count": 28,
   "metadata": {
    "colab": {
     "base_uri": "https://localhost:8080/"
    },
    "id": "WooCsaNUA3ou",
    "outputId": "83cfca29-ebe8-4d78-8987-2873781cd442"
   },
   "outputs": [
    {
     "name": "stdout",
     "output_type": "stream",
     "text": [
      "Model: \"sequential_1\"\n",
      "_________________________________________________________________\n",
      " Layer (type)                Output Shape              Param #   \n",
      "=================================================================\n",
      " conv2d_4 (Conv2D)           (None, 200, 200, 32)      832       \n",
      "                                                                 \n",
      " max_pooling2d_4 (MaxPooling  (None, 100, 100, 32)     0         \n",
      " 2D)                                                             \n",
      "                                                                 \n",
      " dropout_6 (Dropout)         (None, 100, 100, 32)      0         \n",
      "                                                                 \n",
      " conv2d_5 (Conv2D)           (None, 100, 100, 64)      18496     \n",
      "                                                                 \n",
      " max_pooling2d_5 (MaxPooling  (None, 50, 50, 64)       0         \n",
      " 2D)                                                             \n",
      "                                                                 \n",
      " dropout_7 (Dropout)         (None, 50, 50, 64)        0         \n",
      "                                                                 \n",
      " conv2d_6 (Conv2D)           (None, 50, 50, 64)        36928     \n",
      "                                                                 \n",
      " max_pooling2d_6 (MaxPooling  (None, 25, 25, 64)       0         \n",
      " 2D)                                                             \n",
      "                                                                 \n",
      " dropout_8 (Dropout)         (None, 25, 25, 64)        0         \n",
      "                                                                 \n",
      " conv2d_7 (Conv2D)           (None, 25, 25, 128)       73856     \n",
      "                                                                 \n",
      " max_pooling2d_7 (MaxPooling  (None, 12, 12, 128)      0         \n",
      " 2D)                                                             \n",
      "                                                                 \n",
      " dropout_9 (Dropout)         (None, 12, 12, 128)       0         \n",
      "                                                                 \n",
      " flatten_1 (Flatten)         (None, 18432)             0         \n",
      "                                                                 \n",
      " dropout_10 (Dropout)        (None, 18432)             0         \n",
      "                                                                 \n",
      " dense_2 (Dense)             (None, 512)               9437696   \n",
      "                                                                 \n",
      " dropout_11 (Dropout)        (None, 512)               0         \n",
      "                                                                 \n",
      " dense_3 (Dense)             (None, 4)                 2052      \n",
      "                                                                 \n",
      "=================================================================\n",
      "Total params: 9,569,860\n",
      "Trainable params: 9,569,860\n",
      "Non-trainable params: 0\n",
      "_________________________________________________________________\n"
     ]
    }
   ],
   "source": [
    "model.summary()\n",
    "# Summary tells us about the layers used, their resultant output shape and the number of parameters"
   ]
  },
  {
   "cell_type": "code",
   "execution_count": 29,
   "metadata": {
    "id": "3USh3ei_BKIr"
   },
   "outputs": [],
   "source": [
    "model_checkpoint = ModelCheckpoint(filepath=\"/content/drive/MyDrive/weights_improvement_model18-{epoch:02d}-{val_accuracy:.2f}.hdf5\",\n",
    "                                   monitor=\"val_accuracy\",\n",
    "                                   verbose =1, save_best_only = True,mode='max')\n",
    "# Here we use model checkpoint to save model when the present validation accuracy is higher than previous one. Verbose means to \n",
    "# show the saving done"
   ]
  },
  {
   "cell_type": "code",
   "execution_count": 30,
   "metadata": {
    "id": "GE6DiyxFA7kh"
   },
   "outputs": [],
   "source": [
    "model.compile(optimizer=\"adam\",loss=\"categorical_crossentropy\",metrics = ['accuracy'])\n",
    "# Adam is an optimization algorithm for updating the parameters of a neural network. It is stochastic gradient descent \n",
    "# optimization algorithm.\n",
    "\n",
    "# categorical_crossentrophy is used as loss function when we have one-hot encoded the output classes"
   ]
  },
  {
   "cell_type": "code",
   "execution_count": 31,
   "metadata": {
    "colab": {
     "base_uri": "https://localhost:8080/"
    },
    "id": "Mw_2B9l3BRV0",
    "outputId": "a8b1c1c7-745d-42ab-c6da-16179fd4c5d8",
    "scrolled": true
   },
   "outputs": [
    {
     "name": "stdout",
     "output_type": "stream",
     "text": [
      "Epoch 1/30\n",
      "143/143 [==============================] - ETA: 0s - loss: 0.9188 - accuracy: 0.6006\n",
      "Epoch 1: val_accuracy improved from -inf to 0.58443, saving model to /content/drive/MyDrive/weights_improvement_model18-01-0.58.hdf5\n",
      "143/143 [==============================] - 18s 65ms/step - loss: 0.9188 - accuracy: 0.6006 - val_loss: 0.8867 - val_accuracy: 0.5844\n",
      "Epoch 2/30\n",
      "143/143 [==============================] - ETA: 0s - loss: 0.5537 - accuracy: 0.7881\n",
      "Epoch 2: val_accuracy improved from 0.58443 to 0.65529, saving model to /content/drive/MyDrive/weights_improvement_model18-02-0.66.hdf5\n",
      "143/143 [==============================] - 8s 57ms/step - loss: 0.5537 - accuracy: 0.7881 - val_loss: 0.7910 - val_accuracy: 0.6553\n",
      "Epoch 3/30\n",
      "142/143 [============================>.] - ETA: 0s - loss: 0.4703 - accuracy: 0.8228\n",
      "Epoch 3: val_accuracy improved from 0.65529 to 0.74191, saving model to /content/drive/MyDrive/weights_improvement_model18-03-0.74.hdf5\n",
      "143/143 [==============================] - 8s 57ms/step - loss: 0.4734 - accuracy: 0.8221 - val_loss: 0.6380 - val_accuracy: 0.7419\n",
      "Epoch 4/30\n",
      "142/143 [============================>.] - ETA: 0s - loss: 0.4152 - accuracy: 0.8402\n",
      "Epoch 4: val_accuracy improved from 0.74191 to 0.81365, saving model to /content/drive/MyDrive/weights_improvement_model18-04-0.81.hdf5\n",
      "143/143 [==============================] - 8s 55ms/step - loss: 0.4151 - accuracy: 0.8402 - val_loss: 0.4327 - val_accuracy: 0.8136\n",
      "Epoch 5/30\n",
      "143/143 [==============================] - ETA: 0s - loss: 0.3461 - accuracy: 0.8715\n",
      "Epoch 5: val_accuracy improved from 0.81365 to 0.84602, saving model to /content/drive/MyDrive/weights_improvement_model18-05-0.85.hdf5\n",
      "143/143 [==============================] - 8s 57ms/step - loss: 0.3461 - accuracy: 0.8715 - val_loss: 0.3492 - val_accuracy: 0.8460\n",
      "Epoch 6/30\n",
      "143/143 [==============================] - ETA: 0s - loss: 0.3157 - accuracy: 0.8794\n",
      "Epoch 6: val_accuracy improved from 0.84602 to 0.85652, saving model to /content/drive/MyDrive/weights_improvement_model18-06-0.86.hdf5\n",
      "143/143 [==============================] - 8s 54ms/step - loss: 0.3157 - accuracy: 0.8794 - val_loss: 0.3196 - val_accuracy: 0.8565\n",
      "Epoch 7/30\n",
      "143/143 [==============================] - ETA: 0s - loss: 0.2700 - accuracy: 0.8965\n",
      "Epoch 7: val_accuracy did not improve from 0.85652\n",
      "143/143 [==============================] - 7s 52ms/step - loss: 0.2700 - accuracy: 0.8965 - val_loss: 0.3589 - val_accuracy: 0.8373\n",
      "Epoch 8/30\n",
      "142/143 [============================>.] - ETA: 0s - loss: 0.2371 - accuracy: 0.9111\n",
      "Epoch 8: val_accuracy improved from 0.85652 to 0.86352, saving model to /content/drive/MyDrive/weights_improvement_model18-08-0.86.hdf5\n",
      "143/143 [==============================] - 8s 55ms/step - loss: 0.2367 - accuracy: 0.9111 - val_loss: 0.3049 - val_accuracy: 0.8635\n",
      "Epoch 9/30\n",
      "142/143 [============================>.] - ETA: 0s - loss: 0.2122 - accuracy: 0.9247\n",
      "Epoch 9: val_accuracy did not improve from 0.86352\n",
      "143/143 [==============================] - 7s 52ms/step - loss: 0.2120 - accuracy: 0.9249 - val_loss: 0.3596 - val_accuracy: 0.8469\n",
      "Epoch 10/30\n",
      "142/143 [============================>.] - ETA: 0s - loss: 0.1916 - accuracy: 0.9278\n",
      "Epoch 10: val_accuracy improved from 0.86352 to 0.87227, saving model to /content/drive/MyDrive/weights_improvement_model18-10-0.87.hdf5\n",
      "143/143 [==============================] - 8s 55ms/step - loss: 0.1913 - accuracy: 0.9278 - val_loss: 0.3240 - val_accuracy: 0.8723\n",
      "Epoch 11/30\n",
      "143/143 [==============================] - ETA: 0s - loss: 0.1720 - accuracy: 0.9348\n",
      "Epoch 11: val_accuracy improved from 0.87227 to 0.93263, saving model to /content/drive/MyDrive/weights_improvement_model18-11-0.93.hdf5\n",
      "143/143 [==============================] - 8s 55ms/step - loss: 0.1720 - accuracy: 0.9348 - val_loss: 0.1878 - val_accuracy: 0.9326\n",
      "Epoch 12/30\n",
      "142/143 [============================>.] - ETA: 0s - loss: 0.1655 - accuracy: 0.9346\n",
      "Epoch 12: val_accuracy did not improve from 0.93263\n",
      "143/143 [==============================] - 7s 52ms/step - loss: 0.1648 - accuracy: 0.9350 - val_loss: 0.1737 - val_accuracy: 0.9326\n",
      "Epoch 13/30\n",
      "143/143 [==============================] - ETA: 0s - loss: 0.1471 - accuracy: 0.9438\n",
      "Epoch 13: val_accuracy improved from 0.93263 to 0.93963, saving model to /content/drive/MyDrive/weights_improvement_model18-13-0.94.hdf5\n",
      "143/143 [==============================] - 8s 55ms/step - loss: 0.1471 - accuracy: 0.9438 - val_loss: 0.1709 - val_accuracy: 0.9396\n",
      "Epoch 14/30\n",
      "142/143 [============================>.] - ETA: 0s - loss: 0.1338 - accuracy: 0.9516\n",
      "Epoch 14: val_accuracy did not improve from 0.93963\n",
      "143/143 [==============================] - 7s 52ms/step - loss: 0.1336 - accuracy: 0.9516 - val_loss: 0.1833 - val_accuracy: 0.9265\n",
      "Epoch 15/30\n",
      "142/143 [============================>.] - ETA: 0s - loss: 0.1318 - accuracy: 0.9514\n",
      "Epoch 15: val_accuracy did not improve from 0.93963\n",
      "143/143 [==============================] - 7s 52ms/step - loss: 0.1316 - accuracy: 0.9512 - val_loss: 0.1605 - val_accuracy: 0.9396\n",
      "Epoch 16/30\n",
      "142/143 [============================>.] - ETA: 0s - loss: 0.1193 - accuracy: 0.9553\n",
      "Epoch 16: val_accuracy improved from 0.93963 to 0.94926, saving model to /content/drive/MyDrive/weights_improvement_model18-16-0.95.hdf5\n",
      "143/143 [==============================] - 8s 54ms/step - loss: 0.1191 - accuracy: 0.9554 - val_loss: 0.1483 - val_accuracy: 0.9493\n",
      "Epoch 17/30\n",
      "142/143 [============================>.] - ETA: 0s - loss: 0.1125 - accuracy: 0.9560\n",
      "Epoch 17: val_accuracy did not improve from 0.94926\n",
      "143/143 [==============================] - 8s 56ms/step - loss: 0.1120 - accuracy: 0.9562 - val_loss: 0.2094 - val_accuracy: 0.9038\n",
      "Epoch 18/30\n",
      "142/143 [============================>.] - ETA: 0s - loss: 0.1005 - accuracy: 0.9637\n",
      "Epoch 18: val_accuracy did not improve from 0.94926\n",
      "143/143 [==============================] - 7s 52ms/step - loss: 0.1001 - accuracy: 0.9639 - val_loss: 0.1858 - val_accuracy: 0.9344\n",
      "Epoch 19/30\n",
      "142/143 [============================>.] - ETA: 0s - loss: 0.1066 - accuracy: 0.9646\n",
      "Epoch 19: val_accuracy did not improve from 0.94926\n",
      "143/143 [==============================] - 8s 54ms/step - loss: 0.1061 - accuracy: 0.9648 - val_loss: 0.1616 - val_accuracy: 0.9379\n",
      "Epoch 20/30\n",
      "143/143 [==============================] - ETA: 0s - loss: 0.0931 - accuracy: 0.9665\n",
      "Epoch 20: val_accuracy did not improve from 0.94926\n",
      "143/143 [==============================] - 7s 52ms/step - loss: 0.0931 - accuracy: 0.9665 - val_loss: 0.1697 - val_accuracy: 0.9326\n",
      "Epoch 21/30\n",
      "142/143 [============================>.] - ETA: 0s - loss: 0.0840 - accuracy: 0.9688\n",
      "Epoch 21: val_accuracy did not improve from 0.94926\n",
      "143/143 [==============================] - 7s 51ms/step - loss: 0.0835 - accuracy: 0.9689 - val_loss: 0.1502 - val_accuracy: 0.9458\n",
      "Epoch 22/30\n",
      "142/143 [============================>.] - ETA: 0s - loss: 0.0746 - accuracy: 0.9745\n",
      "Epoch 22: val_accuracy improved from 0.94926 to 0.95013, saving model to /content/drive/MyDrive/weights_improvement_model18-22-0.95.hdf5\n",
      "143/143 [==============================] - 8s 54ms/step - loss: 0.0755 - accuracy: 0.9742 - val_loss: 0.1378 - val_accuracy: 0.9501\n",
      "Epoch 23/30\n",
      "143/143 [==============================] - ETA: 0s - loss: 0.0739 - accuracy: 0.9737\n",
      "Epoch 23: val_accuracy improved from 0.95013 to 0.95276, saving model to /content/drive/MyDrive/weights_improvement_model18-23-0.95.hdf5\n",
      "143/143 [==============================] - 8s 55ms/step - loss: 0.0739 - accuracy: 0.9737 - val_loss: 0.1353 - val_accuracy: 0.9528\n",
      "Epoch 24/30\n",
      "142/143 [============================>.] - ETA: 0s - loss: 0.0757 - accuracy: 0.9721\n",
      "Epoch 24: val_accuracy did not improve from 0.95276\n",
      "143/143 [==============================] - 7s 52ms/step - loss: 0.0761 - accuracy: 0.9718 - val_loss: 0.1749 - val_accuracy: 0.9353\n",
      "Epoch 25/30\n",
      "142/143 [============================>.] - ETA: 0s - loss: 0.0638 - accuracy: 0.9778\n",
      "Epoch 25: val_accuracy improved from 0.95276 to 0.97113, saving model to /content/drive/MyDrive/weights_improvement_model18-25-0.97.hdf5\n",
      "143/143 [==============================] - 8s 55ms/step - loss: 0.0643 - accuracy: 0.9777 - val_loss: 0.1088 - val_accuracy: 0.9711\n",
      "Epoch 26/30\n",
      "142/143 [============================>.] - ETA: 0s - loss: 0.0751 - accuracy: 0.9760\n",
      "Epoch 26: val_accuracy did not improve from 0.97113\n",
      "143/143 [==============================] - 7s 51ms/step - loss: 0.0750 - accuracy: 0.9759 - val_loss: 0.1152 - val_accuracy: 0.9633\n",
      "Epoch 27/30\n",
      "143/143 [==============================] - ETA: 0s - loss: 0.0653 - accuracy: 0.9761\n",
      "Epoch 27: val_accuracy did not improve from 0.97113\n",
      "143/143 [==============================] - 7s 52ms/step - loss: 0.0653 - accuracy: 0.9761 - val_loss: 0.1525 - val_accuracy: 0.9484\n",
      "Epoch 28/30\n",
      "143/143 [==============================] - ETA: 0s - loss: 0.0651 - accuracy: 0.9803\n",
      "Epoch 28: val_accuracy did not improve from 0.97113\n",
      "143/143 [==============================] - 7s 51ms/step - loss: 0.0651 - accuracy: 0.9803 - val_loss: 0.1940 - val_accuracy: 0.9440\n",
      "Epoch 29/30\n",
      "143/143 [==============================] - ETA: 0s - loss: 0.0514 - accuracy: 0.9829\n",
      "Epoch 29: val_accuracy did not improve from 0.97113\n",
      "143/143 [==============================] - 7s 51ms/step - loss: 0.0514 - accuracy: 0.9829 - val_loss: 0.1451 - val_accuracy: 0.9668\n",
      "Epoch 30/30\n",
      "142/143 [============================>.] - ETA: 0s - loss: 0.0517 - accuracy: 0.9820\n",
      "Epoch 30: val_accuracy did not improve from 0.97113\n",
      "143/143 [==============================] - 7s 52ms/step - loss: 0.0514 - accuracy: 0.9821 - val_loss: 0.1045 - val_accuracy: 0.9676\n"
     ]
    }
   ],
   "source": [
    "history1 = model.fit(X_train,y_train,batch_size=32 ,epochs=30,validation_data=(X_val,y_val),callbacks=[model_checkpoint])\n",
    "# Here we are training the model in batches of 32 images and validating them in validation data."
   ]
  },
  {
   "cell_type": "markdown",
   "metadata": {},
   "source": [
    "# Plotting accuracy and loss of model of training and validation data"
   ]
  },
  {
   "cell_type": "code",
   "execution_count": 32,
   "metadata": {
    "colab": {
     "base_uri": "https://localhost:8080/",
     "height": 268
    },
    "id": "ELbCadLlB6mD",
    "outputId": "373e11b5-84ec-466b-c614-4425eb0dc4b8"
   },
   "outputs": [
    {
     "data": {
      "image/png": "[encoded data removed]",
      "text/plain": [
       "<Figure size 432x288 with 1 Axes>"
      ]
     },
     "metadata": {
      "needs_background": "light"
     },
     "output_type": "display_data"
    }
   ],
   "source": [
    "plt.plot(history1.history['accuracy'],color='blue',label='train_accuracy')\n",
    "plt.plot(history1.history['val_accuracy'],color='red',label='validation_accuracy')\n",
    "plt.legend()\n",
    "plt.show()\n",
    "# Here we are plotting the training and validation accuracy for 30 epochs.\n",
    "# Here we can that at 25th epoch we get training accuracy as 0.9777 and validation accuracy as 0.9711 .This is the highest\n",
    "# validation accuracy we get for our model when we run for 30 epochs."
   ]
  },
  {
   "cell_type": "code",
   "execution_count": 33,
   "metadata": {
    "colab": {
     "base_uri": "https://localhost:8080/",
     "height": 265
    },
    "id": "bue7KXacDAqM",
    "outputId": "087df601-11f4-4672-9e8a-36b1b574428a"
   },
   "outputs": [
    {
     "data": {
      "image/png": "[encoded data removed]",
      "text/plain": [
       "<Figure size 432x288 with 1 Axes>"
      ]
     },
     "metadata": {
      "needs_background": "light"
     },
     "output_type": "display_data"
    }
   ],
   "source": [
    "plt.plot(history1.history['loss'],color='blue',label='train_loss')\n",
    "plt.plot(history1.history['val_loss'],color='red',label='validation_loss')\n",
    "plt.legend()\n",
    "plt.show()\n",
    "# Here we are plotting the training and validation loss for 30 epochs.\n",
    "# Here we can that at 25th epoch we get training loss as 0.0643 and validation loss as 0.1088 .This is the lowest\n",
    "# validation loss we get for our model when we run for 30 epochs."
   ]
  },
  {
   "cell_type": "code",
   "execution_count": null,
   "metadata": {
    "id": "Xm-FR6JeDHJg"
   },
   "outputs": [],
   "source": []
  },
  {
   "cell_type": "markdown",
   "metadata": {
    "id": "i-k4A43lDTGy"
   },
   "source": [
    "# Classification report and confusion matrix for validation data"
   ]
  },
  {
   "cell_type": "code",
   "execution_count": 59,
   "metadata": {
    "colab": {
     "base_uri": "https://localhost:8080/"
    },
    "id": "FTqBiHLUDTP4",
    "outputId": "b48c1457-1648-4e06-986e-84d67e27b1d3"
   },
   "outputs": [
    {
     "name": "stdout",
     "output_type": "stream",
     "text": [
      "36/36 [==============================] - 1s 17ms/step\n",
      "              precision    recall  f1-score   support\n",
      "\n",
      "      glioma       0.96      0.98      0.97       288\n",
      "  meningioma       0.97      0.91      0.94       265\n",
      "     notumor       0.98      0.99      0.98       291\n",
      "   pituitary       0.98      1.00      0.99       299\n",
      "\n",
      "    accuracy                           0.97      1143\n",
      "   macro avg       0.97      0.97      0.97      1143\n",
      "weighted avg       0.97      0.97      0.97      1143\n",
      "\n"
     ]
    }
   ],
   "source": [
    "from sklearn.metrics import classification_report\n",
    "from keras.models import load_model\n",
    "classes_data = sorted(os.listdir(DIR_Path))\n",
    "\n",
    "m1 = load_model(\"/content/drive/MyDrive/weights_improvement_model18-25-0.97.hdf5\")\n",
    "predict = m1.predict(X_val)\n",
    "classes_x = np.argmax(predict,axis=1)                                     # Here we are printing classification report for our\n",
    "                                                                          # validation data.\n",
    "Y_val2=np.argmax(y_val,axis=1)\n",
    "\n",
    "print(classification_report(Y_val2,classes_x,target_names=classes_data))"
   ]
  },
  {
   "cell_type": "code",
   "execution_count": 60,
   "metadata": {
    "colab": {
     "base_uri": "https://localhost:8080/",
     "height": 175
    },
    "id": "-R6mxCq_E-F6",
    "outputId": "7e56a419-7ca7-414d-99f2-c7a34b3cfb79"
   },
   "outputs": [
    {
     "data": {
      "text/html": [
       "<style type=\"text/css\">\n",
       "#T_08f2c_row0_col0, #T_08f2c_row1_col1, #T_08f2c_row2_col2, #T_08f2c_row3_col3 {\n",
       "  background-color: #08306b;\n",
       "  color: #f1f1f1;\n",
       "}\n",
       "#T_08f2c_row0_col1, #T_08f2c_row1_col2, #T_08f2c_row1_col3 {\n",
       "  background-color: #f4f9fe;\n",
       "  color: #000000;\n",
       "}\n",
       "#T_08f2c_row0_col2, #T_08f2c_row0_col3, #T_08f2c_row2_col0, #T_08f2c_row3_col0, #T_08f2c_row3_col1, #T_08f2c_row3_col2 {\n",
       "  background-color: #f7fbff;\n",
       "  color: #000000;\n",
       "}\n",
       "#T_08f2c_row1_col0 {\n",
       "  background-color: #eef5fc;\n",
       "  color: #000000;\n",
       "}\n",
       "#T_08f2c_row2_col1, #T_08f2c_row2_col3 {\n",
       "  background-color: #f6faff;\n",
       "  color: #000000;\n",
       "}\n",
       "</style>\n",
       "<table id=\"T_08f2c_\" class=\"dataframe\">\n",
       "  <thead>\n",
       "    <tr>\n",
       "      <th class=\"blank level0\" >&nbsp;</th>\n",
       "      <th class=\"col_heading level0 col0\" >Pred_glioma</th>\n",
       "      <th class=\"col_heading level0 col1\" >Pred_meningioma</th>\n",
       "      <th class=\"col_heading level0 col2\" >Pred_notumor</th>\n",
       "      <th class=\"col_heading level0 col3\" >Pred_pituitary</th>\n",
       "    </tr>\n",
       "  </thead>\n",
       "  <tbody>\n",
       "    <tr>\n",
       "      <th id=\"T_08f2c_level0_row0\" class=\"row_heading level0 row0\" >True_glioma</th>\n",
       "      <td id=\"T_08f2c_row0_col0\" class=\"data row0 col0\" >283</td>\n",
       "      <td id=\"T_08f2c_row0_col1\" class=\"data row0 col1\" >5</td>\n",
       "      <td id=\"T_08f2c_row0_col2\" class=\"data row0 col2\" >0</td>\n",
       "      <td id=\"T_08f2c_row0_col3\" class=\"data row0 col3\" >0</td>\n",
       "    </tr>\n",
       "    <tr>\n",
       "      <th id=\"T_08f2c_level0_row1\" class=\"row_heading level0 row1\" >True_meningioma</th>\n",
       "      <td id=\"T_08f2c_row1_col0\" class=\"data row1 col0\" >13</td>\n",
       "      <td id=\"T_08f2c_row1_col1\" class=\"data row1 col1\" >242</td>\n",
       "      <td id=\"T_08f2c_row1_col2\" class=\"data row1 col2\" >5</td>\n",
       "      <td id=\"T_08f2c_row1_col3\" class=\"data row1 col3\" >5</td>\n",
       "    </tr>\n",
       "    <tr>\n",
       "      <th id=\"T_08f2c_level0_row2\" class=\"row_heading level0 row2\" >True_notumor</th>\n",
       "      <td id=\"T_08f2c_row2_col0\" class=\"data row2 col0\" >0</td>\n",
       "      <td id=\"T_08f2c_row2_col1\" class=\"data row2 col1\" >2</td>\n",
       "      <td id=\"T_08f2c_row2_col2\" class=\"data row2 col2\" >287</td>\n",
       "      <td id=\"T_08f2c_row2_col3\" class=\"data row2 col3\" >2</td>\n",
       "    </tr>\n",
       "    <tr>\n",
       "      <th id=\"T_08f2c_level0_row3\" class=\"row_heading level0 row3\" >True_pituitary</th>\n",
       "      <td id=\"T_08f2c_row3_col0\" class=\"data row3 col0\" >0</td>\n",
       "      <td id=\"T_08f2c_row3_col1\" class=\"data row3 col1\" >1</td>\n",
       "      <td id=\"T_08f2c_row3_col2\" class=\"data row3 col2\" >0</td>\n",
       "      <td id=\"T_08f2c_row3_col3\" class=\"data row3 col3\" >298</td>\n",
       "    </tr>\n",
       "  </tbody>\n",
       "</table>\n"
      ],
      "text/plain": [
       "<pandas.io.formats.style.Styler at 0x7fe885faecd0>"
      ]
     },
     "execution_count": 60,
     "metadata": {},
     "output_type": "execute_result"
    }
   ],
   "source": [
    "df = pd.DataFrame(confusion_matrix(Y_val2,classes_x),index = ['True_glioma','True_meningioma','True_notumor','True_pituitary'],\n",
    "                  columns= ['Pred_glioma','Pred_meningioma','Pred_notumor','Pred_pituitary'])\n",
    "df.style.background_gradient(cmap='Blues')"
   ]
  },
  {
   "cell_type": "code",
   "execution_count": 61,
   "metadata": {
    "colab": {
     "base_uri": "https://localhost:8080/",
     "height": 501
    },
    "id": "kEFyzgIUFWbh",
    "outputId": "2ca53dfa-8bdd-4ed0-a245-9ab2e9c15907"
   },
   "outputs": [
    {
     "data": {
      "text/plain": [
       "<matplotlib.axes._subplots.AxesSubplot at 0x7fe9202ea130>"
      ]
     },
     "execution_count": 61,
     "metadata": {},
     "output_type": "execute_result"
    },
    {
     "data": {
      "image/png": "[encoded data removed]",
      "text/plain": [
       "<Figure size 864x576 with 2 Axes>"
      ]
     },
     "metadata": {
      "needs_background": "light"
     },
     "output_type": "display_data"
    }
   ],
   "source": [
    "plt.figure(figsize=(12,8))\n",
    "sns.heatmap(df,annot = True)"
   ]
  },
  {
   "cell_type": "code",
   "execution_count": null,
   "metadata": {
    "id": "LMNHekx5N5Sm"
   },
   "outputs": [],
   "source": []
  },
  {
   "cell_type": "markdown",
   "metadata": {
    "id": "TgIVSO0wN5Y-"
   },
   "source": [
    "# Testing on unseen data"
   ]
  },
  {
   "cell_type": "code",
   "execution_count": 10,
   "metadata": {
    "id": "OYr0H0LON5To"
   },
   "outputs": [
    {
     "data": {
      "image/png": "[encoded data removed]",
      "text/plain": [
       "<Figure size 576x288 with 1 Axes>"
      ]
     },
     "metadata": {
      "needs_background": "light"
     },
     "output_type": "display_data"
    }
   ],
   "source": [
    "glioma = os.listdir(\"C:\\\\Users\\\\Suraj Menon\\\\\\Desktop\\\\archive\\\\Testing\\\\glioma\")\n",
    "meningioma = os.listdir(\"C:\\\\Users\\\\Suraj Menon\\\\\\Desktop\\\\archive\\\\Testing\\\\meningioma\")\n",
    "no_tumor = os.listdir(\"C:\\\\Users\\\\Suraj Menon\\\\\\Desktop\\\\archive\\\\Testing\\\\notumor\")\n",
    "pituitary = os.listdir(\"C:\\\\Users\\\\Suraj Menon\\\\\\Desktop\\\\archive\\\\Testing\\\\pituitary\")\n",
    "\n",
    "Labels = ['Glioma Tumor','Meningioma Tumor','No Tumor','Pituitary Tumor']\n",
    "values = [len(glioma),len(meningioma),len(no_tumor),len(pituitary)]\n",
    "\n",
    "plt.figure(figsize = (8,4))\n",
    "sns.barplot(x= Labels , y=values)\n",
    "plt.show()"
   ]
  },
  {
   "cell_type": "code",
   "execution_count": 11,
   "metadata": {},
   "outputs": [
    {
     "data": {
      "image/png": "[encoded data removed]",
      "text/plain": [
       "<Figure size 432x288 with 1 Axes>"
      ]
     },
     "metadata": {},
     "output_type": "display_data"
    }
   ],
   "source": [
    "plt.pie(values, labels = Labels,autopct = '%1.1f%%')\n",
    "plt.show()"
   ]
  },
  {
   "cell_type": "code",
   "execution_count": 35,
   "metadata": {
    "id": "udtGsbiBFWkP"
   },
   "outputs": [],
   "source": [
    "Test_dir = \"/content/Testing/\"\n",
    "Category = ['glioma','meningioma','notumor','pituitary']\n",
    "\n",
    "test_data = []\n",
    "def load_test_data():\n",
    "  for i in Category:\n",
    "    path = os.path.join(Test_dir,i)\n",
    "    class1_num = Category.index(i)\n",
    "    for img in os.listdir(path):\n",
    "      img_arr = cv2.imread(os.path.join(path,img),cv2.IMREAD_GRAYSCALE)\n",
    "      new_arr = cv2.resize(img_arr,(200,200))\n",
    "      test_data.append([new_arr,class1_num])\n",
    "\n",
    "load_test_data()\n",
    "\n",
    "X_test = []\n",
    "y_test = []\n",
    "\n",
    "for image,label in test_data:\n",
    "  X_test.append(image)\n",
    "  y_test.append(label)\n",
    "\n",
    "X_test = np.array(X_test).reshape(-1,200,200)\n",
    "X_test = X_test/255.0\n",
    "X_test = X_test.reshape(-1,200,200,1)\n",
    "\n",
    "y_test = to_categorical(y_test,num_classes=4)"
   ]
  },
  {
   "cell_type": "code",
   "execution_count": 36,
   "metadata": {
    "colab": {
     "base_uri": "https://localhost:8080/"
    },
    "id": "NscOrWiDH3fZ",
    "outputId": "7f4a399d-04f5-4ddb-bab8-c7993deec5f7"
   },
   "outputs": [
    {
     "name": "stdout",
     "output_type": "stream",
     "text": [
      "(1311, 200, 200, 1)\n",
      "(1311, 4)\n"
     ]
    }
   ],
   "source": [
    "print(X_test.shape)\n",
    "print(y_test.shape)"
   ]
  },
  {
   "cell_type": "markdown",
   "metadata": {
    "id": "04hPUnQDN5X3"
   },
   "source": [
    "# Classification report and confusion matrix for unseen test data"
   ]
  },
  {
   "cell_type": "code",
   "execution_count": 37,
   "metadata": {
    "colab": {
     "base_uri": "https://localhost:8080/"
    },
    "id": "8fZO_b8iH9lQ",
    "outputId": "47837252-982e-4466-83a6-019ef854892a"
   },
   "outputs": [
    {
     "name": "stdout",
     "output_type": "stream",
     "text": [
      "41/41 [==============================] - 1s 28ms/step\n",
      "              precision    recall  f1-score   support\n",
      "\n",
      "      glioma       0.94      0.97      0.96       300\n",
      "  meningioma       0.97      0.88      0.92       306\n",
      "     notumor       0.98      1.00      0.99       405\n",
      "   pituitary       0.96      1.00      0.98       300\n",
      "\n",
      "    accuracy                           0.96      1311\n",
      "   macro avg       0.96      0.96      0.96      1311\n",
      "weighted avg       0.97      0.96      0.96      1311\n",
      "\n"
     ]
    }
   ],
   "source": [
    "from sklearn.metrics import classification_report\n",
    "from keras.models import load_model\n",
    "classes_data_test = sorted(os.listdir(Test_dir))\n",
    "\n",
    "m1 = load_model(\"/content/drive/MyDrive/weights_improvement_model18-25-0.97.hdf5\")\n",
    "predict = m1.predict(X_test)\n",
    "classes_x = np.argmax(predict,axis=1)\n",
    "\n",
    "Y_val2=np.argmax(y_test,axis=1)\n",
    "\n",
    "print(classification_report(Y_val2,classes_x,target_names=classes_data_test))"
   ]
  },
  {
   "cell_type": "code",
   "execution_count": 58,
   "metadata": {
    "colab": {
     "base_uri": "https://localhost:8080/",
     "height": 175
    },
    "id": "3_n_HTnzKmJK",
    "outputId": "046ccd51-9195-4b65-baa2-85c178d8ad5b"
   },
   "outputs": [
    {
     "data": {
      "text/html": [
       "<style type=\"text/css\">\n",
       "#T_1924e_row0_col0, #T_1924e_row1_col1, #T_1924e_row2_col2, #T_1924e_row3_col3 {\n",
       "  background-color: #08306b;\n",
       "  color: #f1f1f1;\n",
       "}\n",
       "#T_1924e_row0_col1 {\n",
       "  background-color: #f2f7fd;\n",
       "  color: #000000;\n",
       "}\n",
       "#T_1924e_row0_col2, #T_1924e_row0_col3, #T_1924e_row2_col0, #T_1924e_row2_col1, #T_1924e_row2_col3, #T_1924e_row3_col0, #T_1924e_row3_col1, #T_1924e_row3_col2 {\n",
       "  background-color: #f7fbff;\n",
       "  color: #000000;\n",
       "}\n",
       "#T_1924e_row1_col0 {\n",
       "  background-color: #ebf3fb;\n",
       "  color: #000000;\n",
       "}\n",
       "#T_1924e_row1_col2 {\n",
       "  background-color: #f3f8fe;\n",
       "  color: #000000;\n",
       "}\n",
       "#T_1924e_row1_col3 {\n",
       "  background-color: #f1f7fd;\n",
       "  color: #000000;\n",
       "}\n",
       "</style>\n",
       "<table id=\"T_1924e_\" class=\"dataframe\">\n",
       "  <thead>\n",
       "    <tr>\n",
       "      <th class=\"blank level0\" >&nbsp;</th>\n",
       "      <th class=\"col_heading level0 col0\" >Pred_glioma</th>\n",
       "      <th class=\"col_heading level0 col1\" >Pred_meningioma</th>\n",
       "      <th class=\"col_heading level0 col2\" >Pred_notumor</th>\n",
       "      <th class=\"col_heading level0 col3\" >Pred_pituitary</th>\n",
       "    </tr>\n",
       "  </thead>\n",
       "  <tbody>\n",
       "    <tr>\n",
       "      <th id=\"T_1924e_level0_row0\" class=\"row_heading level0 row0\" >True_glioma</th>\n",
       "      <td id=\"T_1924e_row0_col0\" class=\"data row0 col0\" >291</td>\n",
       "      <td id=\"T_1924e_row0_col1\" class=\"data row0 col1\" >8</td>\n",
       "      <td id=\"T_1924e_row0_col2\" class=\"data row0 col2\" >0</td>\n",
       "      <td id=\"T_1924e_row0_col3\" class=\"data row0 col3\" >1</td>\n",
       "    </tr>\n",
       "    <tr>\n",
       "      <th id=\"T_1924e_level0_row1\" class=\"row_heading level0 row1\" >True_meningioma</th>\n",
       "      <td id=\"T_1924e_row1_col0\" class=\"data row1 col0\" >18</td>\n",
       "      <td id=\"T_1924e_row1_col1\" class=\"data row1 col1\" >269</td>\n",
       "      <td id=\"T_1924e_row1_col2\" class=\"data row1 col2\" >9</td>\n",
       "      <td id=\"T_1924e_row1_col3\" class=\"data row1 col3\" >10</td>\n",
       "    </tr>\n",
       "    <tr>\n",
       "      <th id=\"T_1924e_level0_row2\" class=\"row_heading level0 row2\" >True_notumor</th>\n",
       "      <td id=\"T_1924e_row2_col0\" class=\"data row2 col0\" >0</td>\n",
       "      <td id=\"T_1924e_row2_col1\" class=\"data row2 col1\" >0</td>\n",
       "      <td id=\"T_1924e_row2_col2\" class=\"data row2 col2\" >405</td>\n",
       "      <td id=\"T_1924e_row2_col3\" class=\"data row2 col3\" >0</td>\n",
       "    </tr>\n",
       "    <tr>\n",
       "      <th id=\"T_1924e_level0_row3\" class=\"row_heading level0 row3\" >True_pituitary</th>\n",
       "      <td id=\"T_1924e_row3_col0\" class=\"data row3 col0\" >0</td>\n",
       "      <td id=\"T_1924e_row3_col1\" class=\"data row3 col1\" >0</td>\n",
       "      <td id=\"T_1924e_row3_col2\" class=\"data row3 col2\" >0</td>\n",
       "      <td id=\"T_1924e_row3_col3\" class=\"data row3 col3\" >300</td>\n",
       "    </tr>\n",
       "  </tbody>\n",
       "</table>\n"
      ],
      "text/plain": [
       "<pandas.io.formats.style.Styler at 0x7fe8ed5c26d0>"
      ]
     },
     "execution_count": 58,
     "metadata": {},
     "output_type": "execute_result"
    }
   ],
   "source": [
    "df = pd.DataFrame(confusion_matrix(Y_val2,classes_x),index = ['True_glioma','True_meningioma','True_notumor','True_pituitary'],\n",
    "                  columns= ['Pred_glioma','Pred_meningioma','Pred_notumor','Pred_pituitary'])\n",
    "df.style.background_gradient(cmap='Blues')"
   ]
  },
  {
   "cell_type": "code",
   "execution_count": 49,
   "metadata": {
    "colab": {
     "base_uri": "https://localhost:8080/",
     "height": 501
    },
    "id": "GEb1KD7mK__k",
    "outputId": "c09c18e6-5ffb-450b-eb5c-3123a41e5a4e"
   },
   "outputs": [
    {
     "data": {
      "text/plain": [
       "<matplotlib.axes._subplots.AxesSubplot at 0x7fe8ed81ba90>"
      ]
     },
     "execution_count": 49,
     "metadata": {},
     "output_type": "execute_result"
    },
    {
     "data": {
      "image/png": "[encoded data removed]",
      "text/plain": [
       "<Figure size 864x576 with 2 Axes>"
      ]
     },
     "metadata": {
      "needs_background": "light"
     },
     "output_type": "display_data"
    }
   ],
   "source": [
    "plt.figure(figsize=(12,8))\n",
    "sns.heatmap(df,annot = True)"
   ]
  },
  {
   "cell_type": "code",
   "execution_count": null,
   "metadata": {
    "id": "tDPzsUMWMj62"
   },
   "outputs": [],
   "source": []
  }
 ],
 "metadata": {
  "accelerator": "GPU",
  "colab": {
   "provenance": []
  },
  "gpuClass": "standard",
  "kernelspec": {
   "display_name": "Tensor",
   "language": "python",
   "name": "tensor"
  },
  "language_info": {
   "codemirror_mode": {
    "name": "ipython",
    "version": 3
   },
   "file_extension": ".py",
   "mimetype": "text/x-python",
   "name": "python",
   "nbconvert_exporter": "python",
   "pygments_lexer": "ipython3",
   "version": "3.9.12"
  }
 },
 "nbformat": 4,
 "nbformat_minor": 1
}
